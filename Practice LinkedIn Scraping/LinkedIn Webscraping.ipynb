{
 "cells": [
  {
   "cell_type": "code",
   "execution_count": 1,
   "id": "51333ddb",
   "metadata": {},
   "outputs": [],
   "source": [
    "# Instantiate Webdriver Session\n",
    "from selenium import webdriver\n",
    "from webdriver_manager.chrome import ChromeDriverManager\n",
    "from selenium.webdriver.chrome.service import Service\n",
    "\n",
    "# Tools for scraping\n",
    "from selenium.webdriver.support.wait import WebDriverWait\n",
    "from selenium.webdriver.support import expected_conditions as EC\n",
    "from selenium.webdriver.common.by import By\n",
    "from selenium.webdriver.common.keys import Keys\n",
    "\n",
    "# Holds Config File for password protection\n",
    "import pandas as pd\n",
    "\n",
    "import time"
   ]
  },
  {
   "cell_type": "code",
   "execution_count": 2,
   "id": "0fb6862f",
   "metadata": {},
   "outputs": [],
   "source": [
    "driver = webdriver.Chrome(service=(Service(ChromeDriverManager().install())))\n",
    "driver.get('https://www.linkedin.com/')"
   ]
  },
  {
   "cell_type": "code",
   "execution_count": 3,
   "id": "b27a0b0e",
   "metadata": {},
   "outputs": [],
   "source": [
    "# Get username and password\n",
    "config = pd.read_csv(r'C:\\Users\\Aaron\\OneDrive\\Desktop\\Webscraping Stuff\\ConfigFile.csv')\n",
    "\n",
    "# Find Username and Password on Page\n",
    "username = WebDriverWait(driver,10).until(EC.element_to_be_clickable((By.CSS_SELECTOR,\"input[autocomplete='username']\")))\n",
    "password = WebDriverWait(driver,10).until(EC.element_to_be_clickable((By.CSS_SELECTOR,\"input[autocomplete='current-password']\")))\n",
    "\n",
    "# Clear any text\n",
    "username.clear()\n",
    "password.clear()\n",
    "\n",
    "# Write username and password to field\n",
    "username.send_keys(config['username'][0])\n",
    "password.send_keys(config['password'][0])"
   ]
  },
  {
   "cell_type": "code",
   "execution_count": 4,
   "id": "5f3f1d53",
   "metadata": {},
   "outputs": [],
   "source": [
    "#login\n",
    "WebDriverWait(driver,10).until(EC.element_to_be_clickable((By.XPATH,\n",
    "                                                           '//*[@id=\"main-content\"]/section[1]/div/form[1]/div[2]/button'))).click()\n"
   ]
  },
  {
   "cell_type": "code",
   "execution_count": 5,
   "id": "8015742c",
   "metadata": {},
   "outputs": [],
   "source": [
    "# Input Search Term\n",
    "search = WebDriverWait(driver,10).until(EC.element_to_be_clickable((By.CSS_SELECTOR,\n",
    "                                                                    \"input[class='search-global-typeahead__input']\")))\n",
    "search.clear()\n"
   ]
  },
  {
   "cell_type": "code",
   "execution_count": 6,
   "id": "0983331a",
   "metadata": {},
   "outputs": [],
   "source": [
    "# Search Name\n",
    "search.send_keys('Aaron Tellis')\n",
    "search.send_keys(Keys.ENTER)"
   ]
  },
  {
   "cell_type": "code",
   "execution_count": 7,
   "id": "240e3d73",
   "metadata": {},
   "outputs": [],
   "source": [
    "# Click People Search Option\n",
    "WebDriverWait(driver,10).until(EC.element_to_be_clickable((By.XPATH,\n",
    "      '//*[@id=\"search-reusables__filters-bar\"]/ul/li[1]/button'))).click()\n",
    "\n",
    "time.sleep(10)"
   ]
  },
  {
   "cell_type": "code",
   "execution_count": 8,
   "id": "0dc47209",
   "metadata": {},
   "outputs": [],
   "source": [
    "# Get urls that result from search\n",
    "lst = []\n",
    "elems = driver.find_elements(By.CLASS_NAME, 'reusable-search__result-container')\n",
    "for elem in elems:\n",
    "    for elem in elem.find_elements(By.CLASS_NAME,'entity-result__item'):\n",
    "        for elem in elem.find_elements(By.CLASS_NAME,'entity-result__universal-image'):\n",
    "            for i in elem.find_elements(By.XPATH,\".//a[@href]\"):\n",
    "                lst.append(i.get_attribute('href'))\n",
    "        \n"
   ]
  },
  {
   "cell_type": "code",
   "execution_count": 9,
   "id": "97f60c88",
   "metadata": {},
   "outputs": [],
   "source": [
    "# Go to first url\n",
    "driver.get(lst[0])"
   ]
  },
  {
   "cell_type": "code",
   "execution_count": null,
   "id": "9b67830d",
   "metadata": {},
   "outputs": [],
   "source": []
  }
 ],
 "metadata": {
  "kernelspec": {
   "display_name": "Python 3 (ipykernel)",
   "language": "python",
   "name": "python3"
  },
  "language_info": {
   "codemirror_mode": {
    "name": "ipython",
    "version": 3
   },
   "file_extension": ".py",
   "mimetype": "text/x-python",
   "name": "python",
   "nbconvert_exporter": "python",
   "pygments_lexer": "ipython3",
   "version": "3.9.13"
  }
 },
 "nbformat": 4,
 "nbformat_minor": 5
}
