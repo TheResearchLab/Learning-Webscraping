{
 "cells": [
  {
   "cell_type": "code",
   "execution_count": 1,
   "metadata": {},
   "outputs": [
    {
     "name": "stderr",
     "output_type": "stream",
     "text": [
      "[WDM] - Downloading: 100%|██████████| 6.79M/6.79M [00:00<00:00, 20.8MB/s]\n"
     ]
    }
   ],
   "source": [
    "from selenium import webdriver\n",
    "from selenium.webdriver.common.by import By\n",
    "from selenium.webdriver.chrome.service import Service\n",
    "from webdriver_manager.chrome import ChromeDriverManager\n",
    "from selenium.webdriver.common.alert import Alert\n",
    "\n",
    "from selenium.webdriver.common.keys import Keys\n",
    "from selenium.webdriver.support.wait import WebDriverWait\n",
    "from selenium.webdriver.support import expected_conditions as EC\n",
    "\n",
    "import pandas as pd\n",
    "import time\n",
    "\n",
    "# initiate driver and get website\n",
    "driver = webdriver.Chrome(service=Service(ChromeDriverManager().install()))\n",
    "driver.get('https://www.benzinga.com/analyst-stock-ratings')\n",
    "\n"
   ]
  },
  {
   "cell_type": "code",
   "execution_count": 2,
   "metadata": {},
   "outputs": [],
   "source": [
    "# Handle popups\n",
    "\n",
    "def popup_detect_main(row_num):\n",
    "    try:\n",
    "        WebDriverWait(driver,10).until(EC.element_to_be_clickable((By.XPATH,\n",
    "                                                                    f'//*[@id=\"__next\"]/div[3]/div/div[1]/div[2]/div[1]/div/div[2]/div[2]/div/div[2]/div/div/div/div/div/div/div/div[2]/table/tbody/tr[{row_num}]/td[7]/div/span[2]'))).click()\n",
    "    except:\n",
    "        return True\n",
    "\n",
    "\n",
    "def popup_detect_sub(urls,driver):\n",
    "    try:\n",
    "        urls.append(driver.current_url)\n",
    "    except:\n",
    "        return True\n",
    "\n",
    "\n",
    "\n",
    "\n",
    "def find_popup_main(row_num):\n",
    "    \n",
    "    lst = [['Campaign__innerWrapper','esc'],['no-thanks','enter'],['call-to-action','esc'],['close-btn','enter']]\n",
    "    for i in lst:\n",
    "        #print(i[0],end=\" \")\n",
    "        try:\n",
    "            popup = WebDriverWait(driver,1).until(EC.element_to_be_clickable((By.CLASS_NAME,i[0])))\n",
    "            if i[1] == 'esc':\n",
    "                popup.send_keys(Keys.ESCAPE)\n",
    "            else:\n",
    "                popup.send_keys(Keys.ENTER)\n",
    "        except:\n",
    "            try:\n",
    "                popup = WebDriverWait(driver,1).until(EC.element_to_be_clickable((By.XPATH,'//*[@id=\"__next\"]/div[3]/div/div[3]/div/div/div[1]'))).click()\n",
    "            except:\n",
    "                continue\n",
    "\n",
    "\n",
    "def find_popup_sub():\n",
    "    \n",
    "    lst = [['Campaign__innerWrapper','esc'],['no-thanks','enter'],['call-to-action','esc'],['close-btn','enter']]\n",
    "    for i in lst:\n",
    "        #print(i[0],end=\" \")\n",
    "        try:\n",
    "            popup = WebDriverWait(driver,1).until(EC.element_to_be_clickable((By.CLASS_NAME,i[0])))\n",
    "            if i[1] == 'esc':\n",
    "                popup.send_keys(Keys.ESCAPE)\n",
    "            else:\n",
    "                popup.send_keys(Keys.ENTER)\n",
    "        except:\n",
    "            try:\n",
    "                popup = WebDriverWait(driver,1).until(EC.element_to_be_clickable((By.XPATH,'//*[@id=\"__next\"]/div[3]/div/div[3]/div/div/div[1]'))).click()\n",
    "            except:\n",
    "                continue"
   ]
  },
  {
   "cell_type": "code",
   "execution_count": 3,
   "metadata": {},
   "outputs": [
    {
     "name": "stdout",
     "output_type": "stream",
     "text": [
      "50th step\n",
      "100th step\n",
      "150th step\n",
      "200th step\n",
      "250th step\n",
      "300th step\n",
      "350th step\n",
      "400th step\n",
      "450th step\n",
      "500th step\n",
      "550th step\n",
      "600th step\n",
      "650th step\n",
      "700th step\n",
      "750th step\n",
      "800th step\n"
     ]
    }
   ],
   "source": [
    "# Ranges from row 2 to row 1001\n",
    "\n",
    "# Get the analyst's page\n",
    "\n",
    "urls = []\n",
    "df = pd.DataFrame(columns=['analyst_url'])\n",
    "\n",
    "for i in range(2,1001):\n",
    "    \n",
    "    \n",
    "    driver.get('https://www.benzinga.com/analyst-stock-ratings')\n",
    "    \n",
    "    while(popup_detect_main(i)):\n",
    "        find_popup_main(i)\n",
    "\n",
    "    time.sleep(8)\n",
    "    \n",
    "    while(popup_detect_sub(urls,driver)):\n",
    "        find_popup_sub()\n",
    "        \n",
    "    if i%50 ==0:\n",
    "        print(str(i) + \"th step\")\n",
    "\n",
    "    url_df = pd.DataFrame(urls,columns=['analyst_url'])\n",
    "    df = pd.concat([df,url_df],ignore_index=True).drop_duplicates()\n",
    "    df.to_csv('analysts_urls.csv')\n",
    "       \n"
   ]
  },
  {
   "cell_type": "code",
   "execution_count": 40,
   "metadata": {},
   "outputs": [],
   "source": [
    "\n",
    "\n",
    "cols = ['date','analyst','ticker','company','currentPrice','predPriceChange','signal']\n",
    "\n",
    "df = pd.DataFrame(columns=['date','analyst','ticker','company','currentPrice','predPriceChange','signal'])\n",
    "\n",
    "urls = pd.read_csv(r'analysts_urls.csv')['analyst_url']\n",
    "\n",
    "for url in urls:\n",
    "\n",
    "    driver.get(url)\n",
    "\n",
    "    #\n",
    "\n",
    "    last_row = int(WebDriverWait(driver,10).until(EC.element_to_be_clickable((By.XPATH,\n",
    "                                                                            '//*[@id=\"__next\"]/div[3]/div/div/div[2]/div[1]/div/div[2]/div[2]/div/div[4]/div/div/div'))).text) + 1 \n",
    "\n",
    "    analyst = WebDriverWait(driver,10).until(EC.element_to_be_clickable((By.XPATH,'//*[@id=\"__next\"]/div[3]/div/div/div[1]/div/div/div/div[3]/span'))).text\n",
    "\n",
    "\n",
    "    for i in range(2,last_row+1):\n",
    "\n",
    "        # Date\n",
    "        date = WebDriverWait(driver,10).until(EC.element_to_be_clickable((By.XPATH,\n",
    "                                                                            f'//*[@id=\"__next\"]/div[3]/div/div/div[2]/div[1]/div/div[2]/div[3]/div/div[1]/div/div/div/div/div/div/div/div[2]/table/tbody/tr[{i}]/td[1]'))).text\n",
    "\n",
    "        # Ticker\n",
    "        ticker = WebDriverWait(driver,10).until(EC.element_to_be_clickable((By.XPATH,\n",
    "                                                                            f'//*[@id=\"__next\"]/div[3]/div/div/div[2]/div[1]/div/div[2]/div[3]/div/div[1]/div/div/div/div/div/div/div/div[2]/table/tbody/tr[{i}]/td[2]'))).text\n",
    "\n",
    "        # Company Name\n",
    "        compName = WebDriverWait(driver,10).until(EC.element_to_be_clickable((By.XPATH,\n",
    "                                                                            f'//*[@id=\"__next\"]/div[3]/div/div/div[2]/div[1]/div/div[2]/div[3]/div/div[1]/div/div/div/div/div/div/div/div[2]/table/tbody/tr[{i}]/td[3]'))).text\n",
    "\n",
    "        # Current Price\n",
    "        currPrice = WebDriverWait(driver,10).until(EC.element_to_be_clickable((By.XPATH,\n",
    "                                                                            f'//*[@id=\"__next\"]/div[3]/div/div/div[2]/div[1]/div/div[2]/div[3]/div/div[1]/div/div/div/div/div/div/div/div[2]/table/tbody/tr[{i}]/td[4]'))).text\n",
    "\n",
    "        # up/downside\n",
    "        priceChange = WebDriverWait(driver,10).until(EC.element_to_be_clickable((By.XPATH,\n",
    "                                                                            f'//*[@id=\"__next\"]/div[3]/div/div/div[2]/div[1]/div/div[2]/div[3]/div/div[1]/div/div/div/div/div/div/div/div[2]/table/tbody/tr[{i}]/td[5]'))).text\n",
    "\n",
    "        # Signal\n",
    "        signal = WebDriverWait(driver,10).until(EC.element_to_be_clickable((By.XPATH,\n",
    "                                                                            f'//*[@id=\"__next\"]/div[3]/div/div/div[2]/div[1]/div/div[2]/div[3]/div/div[1]/div/div/div/div/div/div/div/div[2]/table/tbody/tr[{i}]/td[8]'))).text\n",
    "        \n",
    "        add_rating = pd.DataFrame([[date,analyst,ticker,compName,currPrice,priceChange,signal]],columns=cols)\n",
    "        df = pd.concat([add_rating,df],ignore_index=True)\n",
    "\n",
    "    \n",
    "\n",
    "\n"
   ]
  },
  {
   "cell_type": "code",
   "execution_count": 45,
   "metadata": {},
   "outputs": [
    {
     "data": {
      "text/plain": [
       "'https://www.benzinga.com/analyst-stock-ratings/analyst/5f7da386a442ba0001da775d'"
      ]
     },
     "execution_count": 45,
     "metadata": {},
     "output_type": "execute_result"
    }
   ],
   "source": [
    "\n",
    "\n"
   ]
  },
  {
   "cell_type": "code",
   "execution_count": null,
   "metadata": {},
   "outputs": [],
   "source": []
  },
  {
   "cell_type": "code",
   "execution_count": null,
   "metadata": {},
   "outputs": [],
   "source": []
  }
 ],
 "metadata": {
  "kernelspec": {
   "display_name": "Python 3",
   "language": "python",
   "name": "python3"
  },
  "language_info": {
   "codemirror_mode": {
    "name": "ipython",
    "version": 3
   },
   "file_extension": ".py",
   "mimetype": "text/x-python",
   "name": "python",
   "nbconvert_exporter": "python",
   "pygments_lexer": "ipython3",
   "version": "3.9.13"
  }
 },
 "nbformat": 4,
 "nbformat_minor": 4
}
