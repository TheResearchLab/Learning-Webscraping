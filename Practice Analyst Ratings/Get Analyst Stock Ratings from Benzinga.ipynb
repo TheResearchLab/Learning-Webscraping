{
 "cells": [
  {
   "cell_type": "code",
   "execution_count": 30,
   "metadata": {},
   "outputs": [
    {
     "name": "stderr",
     "output_type": "stream",
     "text": [
      "[WDM] - Downloading: 100%|██████████| 6.79M/6.79M [00:00<00:00, 50.1MB/s]\n"
     ]
    }
   ],
   "source": [
    "from selenium import webdriver\n",
    "from selenium.webdriver.common.by import By\n",
    "from selenium.webdriver.chrome.service import Service\n",
    "from webdriver_manager.chrome import ChromeDriverManager\n",
    "from selenium.webdriver.common.alert import Alert\n",
    "\n",
    "from selenium.webdriver.common.keys import Keys\n",
    "from selenium.webdriver.support.wait import WebDriverWait\n",
    "from selenium.webdriver.support import expected_conditions as EC\n",
    "\n",
    "import pandas as pd\n",
    "import time\n",
    "\n",
    "# initiate driver and get website\n",
    "driver = webdriver.Chrome(service=Service(ChromeDriverManager().install()))\n",
    "driver.get('https://www.benzinga.com/analyst-stock-ratings')\n",
    "\n"
   ]
  },
  {
   "cell_type": "code",
   "execution_count": 2,
   "metadata": {},
   "outputs": [],
   "source": [
    "# Handle popups\n",
    "\n",
    "def popup_detect_main(row_num):\n",
    "    try:\n",
    "        WebDriverWait(driver,10).until(EC.element_to_be_clickable((By.XPATH,\n",
    "                                                                    f'//*[@id=\"__next\"]/div[3]/div/div[1]/div[2]/div[1]/div/div[2]/div[2]/div/div[2]/div/div/div/div/div/div/div/div[2]/table/tbody/tr[{row_num}]/td[7]/div/span[2]'))).click()\n",
    "    except:\n",
    "        return True\n",
    "\n",
    "\n",
    "def popup_detect_sub(urls,driver):\n",
    "    try:\n",
    "        urls.append(driver.current_url)\n",
    "    except:\n",
    "        return True\n",
    "\n",
    "\n",
    "\n",
    "\n",
    "def find_popup_main(row_num):\n",
    "    \n",
    "    lst = [['Campaign__innerWrapper','esc'],['no-thanks','enter'],['call-to-action','esc'],['close-btn','enter']]\n",
    "    for i in lst:\n",
    "        \n",
    "        try:\n",
    "            popup = WebDriverWait(driver,1).until(EC.element_to_be_clickable((By.CLASS_NAME,i[0])))\n",
    "            if i[1] == 'esc':\n",
    "                popup.send_keys(Keys.ESCAPE)\n",
    "            else:\n",
    "                popup.send_keys(Keys.ENTER)\n",
    "        except:\n",
    "            try:\n",
    "                popup = WebDriverWait(driver,1).until(EC.element_to_be_clickable((By.XPATH,'//*[@id=\"__next\"]/div[3]/div/div[3]/div/div/div[1]'))).click()\n",
    "            except:\n",
    "                continue\n",
    "\n",
    "\n",
    "def find_popup_sub():\n",
    "    \n",
    "    lst = [['Campaign__innerWrapper','esc'],['no-thanks','enter'],['call-to-action','esc'],['close-btn','enter']]\n",
    "    for i in lst:\n",
    "        #print(i[0],end=\" \")\n",
    "        try:\n",
    "            popup = WebDriverWait(driver,1).until(EC.element_to_be_clickable((By.CLASS_NAME,i[0])))\n",
    "            if i[1] == 'esc':\n",
    "                popup.send_keys(Keys.ESCAPE)\n",
    "            else:\n",
    "                popup.send_keys(Keys.ENTER)\n",
    "        except:\n",
    "            try:\n",
    "                popup = WebDriverWait(driver,1).until(EC.element_to_be_clickable((By.XPATH,'//*[@id=\"__next\"]/div[3]/div/div[3]/div/div/div[1]'))).click()\n",
    "            except:\n",
    "                continue"
   ]
  },
  {
   "cell_type": "code",
   "execution_count": 3,
   "metadata": {},
   "outputs": [
    {
     "name": "stdout",
     "output_type": "stream",
     "text": [
      "50th step\n",
      "100th step\n",
      "150th step\n",
      "200th step\n",
      "250th step\n",
      "300th step\n",
      "350th step\n",
      "400th step\n",
      "450th step\n",
      "500th step\n",
      "550th step\n",
      "600th step\n",
      "650th step\n",
      "700th step\n",
      "750th step\n",
      "800th step\n"
     ]
    }
   ],
   "source": [
    "# Ranges from row 2 to row 1001\n",
    "\n",
    "# Get the analyst's page\n",
    "\n",
    "urls = []\n",
    "df = pd.DataFrame(columns=['analyst_url'])\n",
    "\n",
    "for i in range(2,1001):\n",
    "    \n",
    "    \n",
    "    driver.get('https://www.benzinga.com/analyst-stock-ratings')\n",
    "    \n",
    "    while(popup_detect_main(i)):\n",
    "        find_popup_main(i)\n",
    "\n",
    "    time.sleep(8)\n",
    "    \n",
    "    while(popup_detect_sub(urls,driver)):\n",
    "        find_popup_sub()\n",
    "        \n",
    "    if i%50 ==0:\n",
    "        print(str(i) + \"th step\")\n",
    "\n",
    "    url_df = pd.DataFrame(urls,columns=['analyst_url_1'])\n",
    "    df = pd.concat([df,url_df],ignore_index=True).drop_duplicates()\n",
    "    df.to_csv('analysts_urls.csv')\n",
    "       \n"
   ]
  },
  {
   "cell_type": "code",
   "execution_count": 26,
   "metadata": {},
   "outputs": [
    {
     "ename": "TimeoutException",
     "evalue": "Message: \nStacktrace:\nBacktrace:\n\t(No symbol) [0x00BFDCE3]\n\t(No symbol) [0x00B939D1]\n\t(No symbol) [0x00AA4DA8]\n\t(No symbol) [0x00AD019F]\n\t(No symbol) [0x00AD03AB]\n\t(No symbol) [0x00AFEE62]\n\t(No symbol) [0x00AEAF14]\n\t(No symbol) [0x00AFD57C]\n\t(No symbol) [0x00AEACC6]\n\t(No symbol) [0x00AC6F68]\n\t(No symbol) [0x00AC80CD]\n\tGetHandleVerifier [0x00E73832+2506274]\n\tGetHandleVerifier [0x00EA9794+2727300]\n\tGetHandleVerifier [0x00EAE36C+2746716]\n\tGetHandleVerifier [0x00CA6690+617600]\n\t(No symbol) [0x00B9C712]\n\t(No symbol) [0x00BA1FF8]\n\t(No symbol) [0x00BA20DB]\n\t(No symbol) [0x00BAC63B]\n\tBaseThreadInitThunk [0x76287D69+25]\n\tRtlInitializeExceptionChain [0x7768B74B+107]\n\tRtlClearBits [0x7768B6CF+191]\n",
     "output_type": "error",
     "traceback": [
      "\u001b[1;31m---------------------------------------------------------------------------\u001b[0m",
      "\u001b[1;31mTimeoutException\u001b[0m                          Traceback (most recent call last)",
      "\u001b[1;32m~\\AppData\\Local\\Temp\\ipykernel_24328\\2173787702.py\u001b[0m in \u001b[0;36m<module>\u001b[1;34m\u001b[0m\n\u001b[0;32m      9\u001b[0m     \u001b[0mdriver\u001b[0m\u001b[1;33m.\u001b[0m\u001b[0mget\u001b[0m\u001b[1;33m(\u001b[0m\u001b[0murl\u001b[0m\u001b[1;33m)\u001b[0m\u001b[1;33m\u001b[0m\u001b[1;33m\u001b[0m\u001b[0m\n\u001b[0;32m     10\u001b[0m \u001b[1;33m\u001b[0m\u001b[0m\n\u001b[1;32m---> 11\u001b[1;33m     last_row = int(WebDriverWait(driver,10).until(EC.element_to_be_clickable((By.XPATH,\n\u001b[0m\u001b[0;32m     12\u001b[0m                                                                             '//*[@id=\"__next\"]/div[3]/div/div/div[2]/div[1]/div/div[2]/div[2]/div/div[4]/div/div/div'))).text) + 1 \n\u001b[0;32m     13\u001b[0m \u001b[1;33m\u001b[0m\u001b[0m\n",
      "\u001b[1;32mc:\\Users\\Aaron\\anaconda3\\lib\\site-packages\\selenium\\webdriver\\support\\wait.py\u001b[0m in \u001b[0;36muntil\u001b[1;34m(self, method, message)\u001b[0m\n\u001b[0;32m     93\u001b[0m             \u001b[1;32mif\u001b[0m \u001b[0mtime\u001b[0m\u001b[1;33m.\u001b[0m\u001b[0mmonotonic\u001b[0m\u001b[1;33m(\u001b[0m\u001b[1;33m)\u001b[0m \u001b[1;33m>\u001b[0m \u001b[0mend_time\u001b[0m\u001b[1;33m:\u001b[0m\u001b[1;33m\u001b[0m\u001b[1;33m\u001b[0m\u001b[0m\n\u001b[0;32m     94\u001b[0m                 \u001b[1;32mbreak\u001b[0m\u001b[1;33m\u001b[0m\u001b[1;33m\u001b[0m\u001b[0m\n\u001b[1;32m---> 95\u001b[1;33m         \u001b[1;32mraise\u001b[0m \u001b[0mTimeoutException\u001b[0m\u001b[1;33m(\u001b[0m\u001b[0mmessage\u001b[0m\u001b[1;33m,\u001b[0m \u001b[0mscreen\u001b[0m\u001b[1;33m,\u001b[0m \u001b[0mstacktrace\u001b[0m\u001b[1;33m)\u001b[0m\u001b[1;33m\u001b[0m\u001b[1;33m\u001b[0m\u001b[0m\n\u001b[0m\u001b[0;32m     96\u001b[0m \u001b[1;33m\u001b[0m\u001b[0m\n\u001b[0;32m     97\u001b[0m     \u001b[1;32mdef\u001b[0m \u001b[0muntil_not\u001b[0m\u001b[1;33m(\u001b[0m\u001b[0mself\u001b[0m\u001b[1;33m,\u001b[0m \u001b[0mmethod\u001b[0m\u001b[1;33m,\u001b[0m \u001b[0mmessage\u001b[0m\u001b[1;33m:\u001b[0m \u001b[0mstr\u001b[0m \u001b[1;33m=\u001b[0m \u001b[1;34m\"\"\u001b[0m\u001b[1;33m)\u001b[0m\u001b[1;33m:\u001b[0m\u001b[1;33m\u001b[0m\u001b[1;33m\u001b[0m\u001b[0m\n",
      "\u001b[1;31mTimeoutException\u001b[0m: Message: \nStacktrace:\nBacktrace:\n\t(No symbol) [0x00BFDCE3]\n\t(No symbol) [0x00B939D1]\n\t(No symbol) [0x00AA4DA8]\n\t(No symbol) [0x00AD019F]\n\t(No symbol) [0x00AD03AB]\n\t(No symbol) [0x00AFEE62]\n\t(No symbol) [0x00AEAF14]\n\t(No symbol) [0x00AFD57C]\n\t(No symbol) [0x00AEACC6]\n\t(No symbol) [0x00AC6F68]\n\t(No symbol) [0x00AC80CD]\n\tGetHandleVerifier [0x00E73832+2506274]\n\tGetHandleVerifier [0x00EA9794+2727300]\n\tGetHandleVerifier [0x00EAE36C+2746716]\n\tGetHandleVerifier [0x00CA6690+617600]\n\t(No symbol) [0x00B9C712]\n\t(No symbol) [0x00BA1FF8]\n\t(No symbol) [0x00BA20DB]\n\t(No symbol) [0x00BAC63B]\n\tBaseThreadInitThunk [0x76287D69+25]\n\tRtlInitializeExceptionChain [0x7768B74B+107]\n\tRtlClearBits [0x7768B6CF+191]\n"
     ]
    }
   ],
   "source": [
    "\n",
    "\n",
    "\n",
    "\n",
    "\n",
    "cols = ['date','analyst','ticker','company','currentPrice','predPriceChange','prevSignal','ratingsChange']\n",
    "\n",
    "df = pd.DataFrame(columns=['date','analyst','ticker','company','currentPrice','predPriceChange','prevSignal','ratingsChange'])\n",
    "\n",
    "urls = pd.read_csv(r'analysts_urls.csv')['analyst_url']\n",
    "\n",
    "for url in urls:\n",
    "\n",
    "    driver.get(url)\n",
    "\n",
    "    last_row = int(WebDriverWait(driver,10).until(EC.element_to_be_clickable((By.XPATH,\n",
    "                                                                            '//*[@id=\"__next\"]/div[3]/div/div/div[2]/div[1]/div/div[2]/div[2]/div/div[4]/div/div/div'))).text) + 1 \n",
    "\n",
    "    analyst = WebDriverWait(driver,10).until(EC.element_to_be_clickable((By.XPATH,'//*[@id=\"__next\"]/div[3]/div/div/div[1]/div/div/div/div[3]/span'))).text\n",
    "\n",
    "\n",
    "    for i in range(2,last_row+1):\n",
    "\n",
    "        # Date\n",
    "        date = WebDriverWait(driver,10).until(EC.element_to_be_clickable((By.XPATH,\n",
    "                                                                            f'//*[@id=\"__next\"]/div[3]/div/div/div[2]/div[1]/div/div[2]/div[3]/div/div[1]/div/div/div/div/div/div/div/div[2]/table/tbody/tr[{i}]/td[1]'))).text\n",
    "\n",
    "        # Ticker\n",
    "        ticker = WebDriverWait(driver,10).until(EC.element_to_be_clickable((By.XPATH,\n",
    "                                                                            f'//*[@id=\"__next\"]/div[3]/div/div/div[2]/div[1]/div/div[2]/div[3]/div/div[1]/div/div/div/div/div/div/div/div[2]/table/tbody/tr[{i}]/td[2]'))).text\n",
    "\n",
    "        # Company Name\n",
    "        compName = WebDriverWait(driver,10).until(EC.element_to_be_clickable((By.XPATH,\n",
    "                                                                            f'//*[@id=\"__next\"]/div[3]/div/div/div[2]/div[1]/div/div[2]/div[3]/div/div[1]/div/div/div/div/div/div/div/div[2]/table/tbody/tr[{i}]/td[3]'))).text\n",
    "\n",
    "        # Current Price\n",
    "        currPrice = WebDriverWait(driver,10).until(EC.element_to_be_clickable((By.XPATH,\n",
    "                                                                            f'//*[@id=\"__next\"]/div[3]/div/div/div[2]/div[1]/div/div[2]/div[3]/div/div[1]/div/div/div/div/div/div/div/div[2]/table/tbody/tr[{i}]/td[4]'))).text\n",
    "\n",
    "        # up/downside\n",
    "        priceChange = WebDriverWait(driver,10).until(EC.element_to_be_clickable((By.XPATH,\n",
    "                                                                            f'//*[@id=\"__next\"]/div[3]/div/div/div[2]/div[1]/div/div[2]/div[3]/div/div[1]/div/div/div/div/div/div/div/div[2]/table/tbody/tr[{i}]/td[5]'))).text\n",
    "\n",
    "        # ratingChange\n",
    "        ratingChange = WebDriverWait(driver,10).until(EC.element_to_be_clickable((By.XPATH,\n",
    "                                                                            f'//*[@id=\"__next\"]/div[3]/div/div/div[2]/div[1]/div/div[2]/div[3]/div/div[1]/div/div/div/div/div/div/div/div[2]/table/tbody/tr[{i}]/td[7]'))).text\n",
    "        \n",
    "        # Previous Signal\n",
    "        prevSignal = WebDriverWait(driver,10).until(EC.element_to_be_clickable((By.XPATH,\n",
    "                                                                            f'//*[@id=\"__next\"]/div[3]/div/div/div[2]/div[1]/div/div[2]/div[3]/div/div[1]/div/div/div/div/div/div/div/div[2]/table/tbody/tr[{i}]/td[8]'))).text\n",
    "        \n",
    "        add_rating = pd.DataFrame([[date,analyst,ticker,compName,currPrice,priceChange,prevSignal,ratingChange]],columns=cols)\n",
    "        df = pd.concat([add_rating,df],ignore_index=True)\n",
    "\n",
    "    \n",
    "\n",
    "\n"
   ]
  },
  {
   "cell_type": "code",
   "execution_count": 32,
   "metadata": {},
   "outputs": [
    {
     "ename": "NoSuchElementException",
     "evalue": "Message: no such element: Unable to locate element: {\"method\":\"xpath\",\"selector\":\"//*[@id=\"__next\"]/div[3]/div/div/div[2]/div[1]/div/div[2]/div[3]/div/div[1]/div/div/div/div/div/div/div/div[2]/table/tbody/tr[3]/td[1]\"}\n  (Session info: chrome=111.0.5563.112)\nStacktrace:\nBacktrace:\n\t(No symbol) [0x00BFDCE3]\n\t(No symbol) [0x00B939D1]\n\t(No symbol) [0x00AA4DA8]\n\t(No symbol) [0x00AD019F]\n\t(No symbol) [0x00AD03AB]\n\t(No symbol) [0x00AFEE62]\n\t(No symbol) [0x00AEAF14]\n\t(No symbol) [0x00AFD57C]\n\t(No symbol) [0x00AEACC6]\n\t(No symbol) [0x00AC6F68]\n\t(No symbol) [0x00AC80CD]\n\tGetHandleVerifier [0x00E73832+2506274]\n\tGetHandleVerifier [0x00EA9794+2727300]\n\tGetHandleVerifier [0x00EAE36C+2746716]\n\tGetHandleVerifier [0x00CA6690+617600]\n\t(No symbol) [0x00B9C712]\n\t(No symbol) [0x00BA1FF8]\n\t(No symbol) [0x00BA20DB]\n\t(No symbol) [0x00BAC63B]\n\tBaseThreadInitThunk [0x76287D69+25]\n\tRtlInitializeExceptionChain [0x7768B74B+107]\n\tRtlClearBits [0x7768B6CF+191]\n",
     "output_type": "error",
     "traceback": [
      "\u001b[1;31m---------------------------------------------------------------------------\u001b[0m",
      "\u001b[1;31mNoSuchElementException\u001b[0m                    Traceback (most recent call last)",
      "\u001b[1;32m~\\AppData\\Local\\Temp\\ipykernel_24328\\790699032.py\u001b[0m in \u001b[0;36m<module>\u001b[1;34m\u001b[0m\n\u001b[1;32m----> 1\u001b[1;33m \u001b[0melement\u001b[0m \u001b[1;33m=\u001b[0m \u001b[0mdriver\u001b[0m\u001b[1;33m.\u001b[0m\u001b[0mfind_element\u001b[0m\u001b[1;33m(\u001b[0m\u001b[0mBy\u001b[0m\u001b[1;33m.\u001b[0m\u001b[0mXPATH\u001b[0m\u001b[1;33m,\u001b[0m\u001b[1;34m'//*[@id=\"__next\"]/div[3]/div/div/div[2]/div[1]/div/div[2]/div[3]/div/div[1]/div/div/div/div/div/div/div/div[2]/table/tbody/tr[3]/td[1]'\u001b[0m\u001b[1;33m)\u001b[0m\u001b[1;33m\u001b[0m\u001b[1;33m\u001b[0m\u001b[0m\n\u001b[0m\u001b[0;32m      2\u001b[0m \u001b[0melement\u001b[0m\u001b[1;33m.\u001b[0m\u001b[0mis_displayed\u001b[0m\u001b[1;33m(\u001b[0m\u001b[1;33m)\u001b[0m\u001b[1;33m\u001b[0m\u001b[1;33m\u001b[0m\u001b[0m\n",
      "\u001b[1;32mc:\\Users\\Aaron\\anaconda3\\lib\\site-packages\\selenium\\webdriver\\remote\\webdriver.py\u001b[0m in \u001b[0;36mfind_element\u001b[1;34m(self, by, value)\u001b[0m\n\u001b[0;32m    828\u001b[0m             \u001b[0mvalue\u001b[0m \u001b[1;33m=\u001b[0m \u001b[1;34mf'[name=\"{value}\"]'\u001b[0m\u001b[1;33m\u001b[0m\u001b[1;33m\u001b[0m\u001b[0m\n\u001b[0;32m    829\u001b[0m \u001b[1;33m\u001b[0m\u001b[0m\n\u001b[1;32m--> 830\u001b[1;33m         \u001b[1;32mreturn\u001b[0m \u001b[0mself\u001b[0m\u001b[1;33m.\u001b[0m\u001b[0mexecute\u001b[0m\u001b[1;33m(\u001b[0m\u001b[0mCommand\u001b[0m\u001b[1;33m.\u001b[0m\u001b[0mFIND_ELEMENT\u001b[0m\u001b[1;33m,\u001b[0m \u001b[1;33m{\u001b[0m\u001b[1;34m\"using\"\u001b[0m\u001b[1;33m:\u001b[0m \u001b[0mby\u001b[0m\u001b[1;33m,\u001b[0m \u001b[1;34m\"value\"\u001b[0m\u001b[1;33m:\u001b[0m \u001b[0mvalue\u001b[0m\u001b[1;33m}\u001b[0m\u001b[1;33m)\u001b[0m\u001b[1;33m[\u001b[0m\u001b[1;34m\"value\"\u001b[0m\u001b[1;33m]\u001b[0m\u001b[1;33m\u001b[0m\u001b[1;33m\u001b[0m\u001b[0m\n\u001b[0m\u001b[0;32m    831\u001b[0m \u001b[1;33m\u001b[0m\u001b[0m\n\u001b[0;32m    832\u001b[0m     \u001b[1;32mdef\u001b[0m \u001b[0mfind_elements\u001b[0m\u001b[1;33m(\u001b[0m\u001b[0mself\u001b[0m\u001b[1;33m,\u001b[0m \u001b[0mby\u001b[0m\u001b[1;33m=\u001b[0m\u001b[0mBy\u001b[0m\u001b[1;33m.\u001b[0m\u001b[0mID\u001b[0m\u001b[1;33m,\u001b[0m \u001b[0mvalue\u001b[0m\u001b[1;33m:\u001b[0m \u001b[0mOptional\u001b[0m\u001b[1;33m[\u001b[0m\u001b[0mstr\u001b[0m\u001b[1;33m]\u001b[0m \u001b[1;33m=\u001b[0m \u001b[1;32mNone\u001b[0m\u001b[1;33m)\u001b[0m \u001b[1;33m->\u001b[0m \u001b[0mList\u001b[0m\u001b[1;33m[\u001b[0m\u001b[0mWebElement\u001b[0m\u001b[1;33m]\u001b[0m\u001b[1;33m:\u001b[0m\u001b[1;33m\u001b[0m\u001b[1;33m\u001b[0m\u001b[0m\n",
      "\u001b[1;32mc:\\Users\\Aaron\\anaconda3\\lib\\site-packages\\selenium\\webdriver\\remote\\webdriver.py\u001b[0m in \u001b[0;36mexecute\u001b[1;34m(self, driver_command, params)\u001b[0m\n\u001b[0;32m    438\u001b[0m         \u001b[0mresponse\u001b[0m \u001b[1;33m=\u001b[0m \u001b[0mself\u001b[0m\u001b[1;33m.\u001b[0m\u001b[0mcommand_executor\u001b[0m\u001b[1;33m.\u001b[0m\u001b[0mexecute\u001b[0m\u001b[1;33m(\u001b[0m\u001b[0mdriver_command\u001b[0m\u001b[1;33m,\u001b[0m \u001b[0mparams\u001b[0m\u001b[1;33m)\u001b[0m\u001b[1;33m\u001b[0m\u001b[1;33m\u001b[0m\u001b[0m\n\u001b[0;32m    439\u001b[0m         \u001b[1;32mif\u001b[0m \u001b[0mresponse\u001b[0m\u001b[1;33m:\u001b[0m\u001b[1;33m\u001b[0m\u001b[1;33m\u001b[0m\u001b[0m\n\u001b[1;32m--> 440\u001b[1;33m             \u001b[0mself\u001b[0m\u001b[1;33m.\u001b[0m\u001b[0merror_handler\u001b[0m\u001b[1;33m.\u001b[0m\u001b[0mcheck_response\u001b[0m\u001b[1;33m(\u001b[0m\u001b[0mresponse\u001b[0m\u001b[1;33m)\u001b[0m\u001b[1;33m\u001b[0m\u001b[1;33m\u001b[0m\u001b[0m\n\u001b[0m\u001b[0;32m    441\u001b[0m             \u001b[0mresponse\u001b[0m\u001b[1;33m[\u001b[0m\u001b[1;34m\"value\"\u001b[0m\u001b[1;33m]\u001b[0m \u001b[1;33m=\u001b[0m \u001b[0mself\u001b[0m\u001b[1;33m.\u001b[0m\u001b[0m_unwrap_value\u001b[0m\u001b[1;33m(\u001b[0m\u001b[0mresponse\u001b[0m\u001b[1;33m.\u001b[0m\u001b[0mget\u001b[0m\u001b[1;33m(\u001b[0m\u001b[1;34m\"value\"\u001b[0m\u001b[1;33m,\u001b[0m \u001b[1;32mNone\u001b[0m\u001b[1;33m)\u001b[0m\u001b[1;33m)\u001b[0m\u001b[1;33m\u001b[0m\u001b[1;33m\u001b[0m\u001b[0m\n\u001b[0;32m    442\u001b[0m             \u001b[1;32mreturn\u001b[0m \u001b[0mresponse\u001b[0m\u001b[1;33m\u001b[0m\u001b[1;33m\u001b[0m\u001b[0m\n",
      "\u001b[1;32mc:\\Users\\Aaron\\anaconda3\\lib\\site-packages\\selenium\\webdriver\\remote\\errorhandler.py\u001b[0m in \u001b[0;36mcheck_response\u001b[1;34m(self, response)\u001b[0m\n\u001b[0;32m    243\u001b[0m                 \u001b[0malert_text\u001b[0m \u001b[1;33m=\u001b[0m \u001b[0mvalue\u001b[0m\u001b[1;33m[\u001b[0m\u001b[1;34m\"alert\"\u001b[0m\u001b[1;33m]\u001b[0m\u001b[1;33m.\u001b[0m\u001b[0mget\u001b[0m\u001b[1;33m(\u001b[0m\u001b[1;34m\"text\"\u001b[0m\u001b[1;33m)\u001b[0m\u001b[1;33m\u001b[0m\u001b[1;33m\u001b[0m\u001b[0m\n\u001b[0;32m    244\u001b[0m             \u001b[1;32mraise\u001b[0m \u001b[0mexception_class\u001b[0m\u001b[1;33m(\u001b[0m\u001b[0mmessage\u001b[0m\u001b[1;33m,\u001b[0m \u001b[0mscreen\u001b[0m\u001b[1;33m,\u001b[0m \u001b[0mstacktrace\u001b[0m\u001b[1;33m,\u001b[0m \u001b[0malert_text\u001b[0m\u001b[1;33m)\u001b[0m  \u001b[1;31m# type: ignore[call-arg]  # mypy is not smart enough here\u001b[0m\u001b[1;33m\u001b[0m\u001b[1;33m\u001b[0m\u001b[0m\n\u001b[1;32m--> 245\u001b[1;33m         \u001b[1;32mraise\u001b[0m \u001b[0mexception_class\u001b[0m\u001b[1;33m(\u001b[0m\u001b[0mmessage\u001b[0m\u001b[1;33m,\u001b[0m \u001b[0mscreen\u001b[0m\u001b[1;33m,\u001b[0m \u001b[0mstacktrace\u001b[0m\u001b[1;33m)\u001b[0m\u001b[1;33m\u001b[0m\u001b[1;33m\u001b[0m\u001b[0m\n\u001b[0m",
      "\u001b[1;31mNoSuchElementException\u001b[0m: Message: no such element: Unable to locate element: {\"method\":\"xpath\",\"selector\":\"//*[@id=\"__next\"]/div[3]/div/div/div[2]/div[1]/div/div[2]/div[3]/div/div[1]/div/div/div/div/div/div/div/div[2]/table/tbody/tr[3]/td[1]\"}\n  (Session info: chrome=111.0.5563.112)\nStacktrace:\nBacktrace:\n\t(No symbol) [0x00BFDCE3]\n\t(No symbol) [0x00B939D1]\n\t(No symbol) [0x00AA4DA8]\n\t(No symbol) [0x00AD019F]\n\t(No symbol) [0x00AD03AB]\n\t(No symbol) [0x00AFEE62]\n\t(No symbol) [0x00AEAF14]\n\t(No symbol) [0x00AFD57C]\n\t(No symbol) [0x00AEACC6]\n\t(No symbol) [0x00AC6F68]\n\t(No symbol) [0x00AC80CD]\n\tGetHandleVerifier [0x00E73832+2506274]\n\tGetHandleVerifier [0x00EA9794+2727300]\n\tGetHandleVerifier [0x00EAE36C+2746716]\n\tGetHandleVerifier [0x00CA6690+617600]\n\t(No symbol) [0x00B9C712]\n\t(No symbol) [0x00BA1FF8]\n\t(No symbol) [0x00BA20DB]\n\t(No symbol) [0x00BAC63B]\n\tBaseThreadInitThunk [0x76287D69+25]\n\tRtlInitializeExceptionChain [0x7768B74B+107]\n\tRtlClearBits [0x7768B6CF+191]\n"
     ]
    }
   ],
   "source": [
    "element = driver.find_element(By.XPATH,'//*[@id=\"__next\"]/div[3]/div/div/div[2]/div[1]/div/div[2]/div[3]/div/div[1]/div/div/div/div/div/div/div/div[2]/table/tbody/tr[3]/td[1]')\n",
    "element.is_displayed()"
   ]
  },
  {
   "cell_type": "code",
   "execution_count": 28,
   "metadata": {},
   "outputs": [],
   "source": [
    "df.to_csv('analyst_ratings.csv')"
   ]
  },
  {
   "cell_type": "code",
   "execution_count": null,
   "metadata": {},
   "outputs": [],
   "source": []
  }
 ],
 "metadata": {
  "kernelspec": {
   "display_name": "Python 3",
   "language": "python",
   "name": "python3"
  },
  "language_info": {
   "codemirror_mode": {
    "name": "ipython",
    "version": 3
   },
   "file_extension": ".py",
   "mimetype": "text/x-python",
   "name": "python",
   "nbconvert_exporter": "python",
   "pygments_lexer": "ipython3",
   "version": "3.9.13"
  }
 },
 "nbformat": 4,
 "nbformat_minor": 4
}
