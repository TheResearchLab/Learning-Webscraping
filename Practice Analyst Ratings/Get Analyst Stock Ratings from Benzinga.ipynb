{
 "cells": [
  {
   "cell_type": "code",
   "execution_count": 29,
   "metadata": {},
   "outputs": [],
   "source": [
    "from selenium import webdriver\n",
    "from selenium.webdriver.common.by import By\n",
    "from selenium.webdriver.chrome.service import Service\n",
    "from webdriver_manager.chrome import ChromeDriverManager\n",
    "from selenium.webdriver.common.alert import Alert\n",
    "\n",
    "from selenium.webdriver.common.keys import Keys\n",
    "from selenium.webdriver.support.wait import WebDriverWait\n",
    "from selenium.webdriver.support import expected_conditions as EC\n",
    "\n",
    "import pandas as pd\n",
    "\n",
    "# initiate driver and get website\n",
    "driver = webdriver.Chrome(service=Service(ChromeDriverManager().install()))\n",
    "\n"
   ]
  },
  {
   "cell_type": "code",
   "execution_count": 30,
   "metadata": {},
   "outputs": [],
   "source": [
    "# see if popups are present\n",
    "# 'Campaign__innerWrapper' , 'no-thanks', 'call-to-action'\n",
    "def find_popup(class_name):\n",
    "    try:\n",
    "        popup = WebDriverWait(driver,20).until(EC.element_to_be_clickable((By.CLASS_NAME,class_name)))\n",
    "        return popup\n",
    "    except:\n",
    "        return False\n",
    "\n",
    "\n",
    "\n"
   ]
  },
  {
   "cell_type": "code",
   "execution_count": 38,
   "metadata": {},
   "outputs": [],
   "source": [
    "\n",
    "if find_popup('close-btn') != False:\n",
    "    find_popup('close-btn').send_keys(Keys.ESCAPE)\n",
    "if find_popup('Campaign__innerWrapper') != False:\n",
    "    find_popup('Campaign__innerWrapper').send_keys(Keys.ESCAPE)\n",
    "if find_popup('no-thanks') != False:\n",
    "    find_popup('no-thanks').send_keys(Keys.ENTER)\n"
   ]
  },
  {
   "cell_type": "code",
   "execution_count": 50,
   "metadata": {},
   "outputs": [],
   "source": [
    "# Ranges from row 2 to row 1001\n",
    "\n",
    "# Get the analyst's page\n",
    "\n",
    "urls = []\n",
    "\n",
    "\n",
    "for i in range(2,1001):\n",
    "    driver.get('https://www.benzinga.com/analyst-stock-ratings')\n",
    "\n",
    "    try:\n",
    "        WebDriverWait(driver,10).until(EC.element_to_be_clickable((By.XPATH,\n",
    "                                                                    f'//*[@id=\"__next\"]/div[3]/div/div[1]/div[2]/div[1]/div/div[2]/div[2]/div/div[2]/div/div/div/div/div/div/div/div[2]/table/tbody/tr[{i}]/td[7]/div/span[2]'))).click()\n",
    "        \n",
    "        urls.append(driver.current_url)\n",
    "       \n",
    "    except:\n",
    "        break\n"
   ]
  },
  {
   "cell_type": "code",
   "execution_count": 31,
   "metadata": {},
   "outputs": [
    {
     "name": "stdout",
     "output_type": "stream",
     "text": [
      "The current url is:https://www.benzinga.com/analyst-stock-ratings/analyst/580deb38846faa000106aea9\n"
     ]
    }
   ],
   "source": [
    "# Wait until page loads and get URL\n",
    "# save url and row number as an id for now\n",
    "driver.current_url\n",
    "print(\"The current url is:\"+str(get_url))"
   ]
  },
  {
   "cell_type": "code",
   "execution_count": 51,
   "metadata": {},
   "outputs": [
    {
     "data": {
      "text/plain": [
       "[]"
      ]
     },
     "execution_count": 51,
     "metadata": {},
     "output_type": "execute_result"
    }
   ],
   "source": [
    "# Go back and do it again for each analyst\n"
   ]
  },
  {
   "cell_type": "code",
   "execution_count": 33,
   "metadata": {},
   "outputs": [],
   "source": [
    "# After, create a process to iterate over the URLs and scrape the tables for ratings data per analysts\n",
    "# analystRatingDate = driver.find_element(By.XPATH, '//*[@id=\"__next\"]/div[3]/div/div[1]/div[2]/div[1]/div/div[2]/div[2]/div/div[2]/div/div/div/div/div/div/div/div[2]/table/tbody/tr[2]/td[1]')"
   ]
  },
  {
   "cell_type": "code",
   "execution_count": null,
   "metadata": {},
   "outputs": [],
   "source": [
    "# Save to pandas\n",
    "# Save to postgres"
   ]
  }
 ],
 "metadata": {
  "kernelspec": {
   "display_name": "Python 3",
   "language": "python",
   "name": "python3"
  },
  "language_info": {
   "codemirror_mode": {
    "name": "ipython",
    "version": 3
   },
   "file_extension": ".py",
   "mimetype": "text/x-python",
   "name": "python",
   "nbconvert_exporter": "python",
   "pygments_lexer": "ipython3",
   "version": "3.9.13"
  }
 },
 "nbformat": 4,
 "nbformat_minor": 4
}
