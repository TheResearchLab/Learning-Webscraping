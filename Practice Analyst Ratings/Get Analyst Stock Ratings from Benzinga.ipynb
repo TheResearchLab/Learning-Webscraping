{
 "cells": [
  {
   "cell_type": "code",
   "execution_count": 27,
   "metadata": {},
   "outputs": [],
   "source": [
    "from selenium import webdriver\n",
    "from selenium.webdriver.common.by import By\n",
    "from selenium.webdriver.chrome.service import Service\n",
    "from webdriver_manager.chrome import ChromeDriverManager\n",
    "from selenium.webdriver.common.alert import Alert\n",
    "\n",
    "from selenium.webdriver.common.keys import Keys\n",
    "from selenium.webdriver.support.wait import WebDriverWait\n",
    "from selenium.webdriver.support import expected_conditions as EC\n",
    "\n",
    "# initiate driver and get website\n",
    "driver = webdriver.Chrome(service=Service(ChromeDriverManager().install()))\n",
    "\n",
    "\n"
   ]
  },
  {
   "cell_type": "code",
   "execution_count": 11,
   "metadata": {},
   "outputs": [
    {
     "data": {
      "text/plain": [
       "'III'"
      ]
     },
     "execution_count": 11,
     "metadata": {},
     "output_type": "execute_result"
    }
   ],
   "source": [
    "# Go to login https://www.benzinga.com/login\n",
    "# Go to Analyst Ratings driver.get('https://www.benzinga.com/analyst-stock-ratings');\n",
    "# Escape for popups logic\n",
    "# Click performance\n",
    "# Get URL and go back to analyst-stock-ratings\n",
    "# Do for all analysts "
   ]
  },
  {
   "cell_type": "code",
   "execution_count": 30,
   "metadata": {},
   "outputs": [],
   "source": [
    "# Ranges from row 2 to row 1001\n",
    "\n",
    "# Get the analyst's page\n",
    "WebDriverWait(driver,10).until(EC.element_to_be_clickable((By.XPATH,\n",
    "                                                                    '//*[@id=\"__next\"]/div[3]/div/div[1]/div[2]/div[1]/div/div[2]/div[2]/div/div[2]/div/div/div/div/div/div/div/div[2]/table/tbody/tr[2]/td[7]/div/span[2]'))).click()\n",
    "\n"
   ]
  },
  {
   "cell_type": "code",
   "execution_count": 31,
   "metadata": {},
   "outputs": [
    {
     "name": "stdout",
     "output_type": "stream",
     "text": [
      "The current url is:https://www.benzinga.com/analyst-stock-ratings/analyst/580deb38846faa000106aea9\n"
     ]
    }
   ],
   "source": [
    "# Wait until page loads and get URL\n",
    "# save url and row number as an id for now\n",
    "driver.current_url\n",
    "print(\"The current url is:\"+str(get_url))"
   ]
  },
  {
   "cell_type": "code",
   "execution_count": 32,
   "metadata": {},
   "outputs": [],
   "source": [
    "# Go back and do it again for each analyst"
   ]
  },
  {
   "cell_type": "code",
   "execution_count": 33,
   "metadata": {},
   "outputs": [],
   "source": [
    "# After, create a process to iterate over the URLs and scrape the tables for ratings data per analysts\n",
    "# analystRatingDate = driver.find_element(By.XPATH, '//*[@id=\"__next\"]/div[3]/div/div[1]/div[2]/div[1]/div/div[2]/div[2]/div/div[2]/div/div/div/div/div/div/div/div[2]/table/tbody/tr[2]/td[1]')"
   ]
  },
  {
   "cell_type": "code",
   "execution_count": null,
   "metadata": {},
   "outputs": [],
   "source": [
    "# Save to pandas\n",
    "# Save to postgres"
   ]
  }
 ],
 "metadata": {
  "kernelspec": {
   "display_name": "Python 3",
   "language": "python",
   "name": "python3"
  },
  "language_info": {
   "codemirror_mode": {
    "name": "ipython",
    "version": 3
   },
   "file_extension": ".py",
   "mimetype": "text/x-python",
   "name": "python",
   "nbconvert_exporter": "python",
   "pygments_lexer": "ipython3",
   "version": "3.8.5"
  }
 },
 "nbformat": 4,
 "nbformat_minor": 4
}
